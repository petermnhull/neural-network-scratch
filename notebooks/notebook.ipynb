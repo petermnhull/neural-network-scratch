{
 "cells": [
  {
   "cell_type": "code",
   "execution_count": 36,
   "metadata": {},
   "outputs": [],
   "source": [
    "import gzip\n",
    "import numpy as np\n",
    "import structlog\n",
    "from matplotlib import pyplot as plt\n",
    "from dataclasses import dataclass\n",
    "import random\n",
    "from sklearn.metrics import accuracy_score\n",
    "\n",
    "LOGGER = structlog.get_logger()"
   ]
  },
  {
   "cell_type": "markdown",
   "metadata": {},
   "source": [
    "## Data Loading"
   ]
  },
  {
   "cell_type": "code",
   "execution_count": 2,
   "metadata": {},
   "outputs": [],
   "source": [
    "IMAGES_TRAIN_PATH = \"../data/train-images-idx3-ubyte.gz\"\n",
    "LABELS_TRAIN_PATH = \"../data/train-labels-idx1-ubyte.gz\"\n",
    "IMAGES_TEST_PATH = \"../data/t10k-images-idx3-ubyte.gz\"\n",
    "LABELS_TEST_PATH = \"../data/t10k-labels-idx1-ubyte.gz\""
   ]
  },
  {
   "cell_type": "code",
   "execution_count": 3,
   "metadata": {},
   "outputs": [],
   "source": [
    "from array import array\n",
    "from struct import unpack\n",
    "\n",
    "\n",
    "def parse_gzip(f):\n",
    "    data_types = {\n",
    "        0x08: \"B\",\n",
    "        0x09: \"b\",\n",
    "        0x0B: \"h\",\n",
    "        0x0C: \"i\",\n",
    "        0x0D: \"f\",\n",
    "        0x0E: \"d\",\n",
    "    }\n",
    "\n",
    "    header = f.read(4)\n",
    "    _, data_type_label, num_dimensions = unpack(\">HBB\", header)\n",
    "    data_type_label = data_types[data_type_label]\n",
    "    dimension_sizes = unpack(\">\" + \"I\" * num_dimensions, f.read(4 * num_dimensions))\n",
    "    data = array(data_type_label, f.read())\n",
    "    data.byteswap()\n",
    "\n",
    "    return np.array(data).reshape(dimension_sizes)"
   ]
  },
  {
   "cell_type": "code",
   "execution_count": 4,
   "metadata": {},
   "outputs": [],
   "source": [
    "def read_from_path(path: str) -> np.array:\n",
    "    with gzip.open(path, \"rb\") as f:\n",
    "        return parse_gzip(f)"
   ]
  },
  {
   "cell_type": "code",
   "execution_count": 5,
   "metadata": {},
   "outputs": [],
   "source": [
    "train_images_raw = read_from_path(IMAGES_TRAIN_PATH)\n",
    "train_labels = read_from_path(LABELS_TRAIN_PATH)\n",
    "test_images_raw = read_from_path(IMAGES_TEST_PATH)\n",
    "test_labels = read_from_path(LABELS_TEST_PATH)"
   ]
  },
  {
   "cell_type": "code",
   "execution_count": 6,
   "metadata": {},
   "outputs": [
    {
     "name": "stdout",
     "output_type": "stream",
     "text": [
      "\u001b[2m2024-02-11 00:46:54\u001b[0m [\u001b[32m\u001b[1minfo     \u001b[0m] \u001b[1mtrain images: 60000           \u001b[0m\n",
      "\u001b[2m2024-02-11 00:46:54\u001b[0m [\u001b[32m\u001b[1minfo     \u001b[0m] \u001b[1mtrain labels: 60000           \u001b[0m\n",
      "\u001b[2m2024-02-11 00:46:54\u001b[0m [\u001b[32m\u001b[1minfo     \u001b[0m] \u001b[1mtest images: 10000            \u001b[0m\n",
      "\u001b[2m2024-02-11 00:46:54\u001b[0m [\u001b[32m\u001b[1minfo     \u001b[0m] \u001b[1mtest labels: 10000            \u001b[0m\n",
      "\u001b[2m2024-02-11 00:46:54\u001b[0m [\u001b[32m\u001b[1minfo     \u001b[0m] \u001b[1mdimensions of image: 784 (28, 28)\u001b[0m\n",
      "\u001b[2m2024-02-11 00:46:54\u001b[0m [\u001b[32m\u001b[1minfo     \u001b[0m] \u001b[1mlabels: [0, 1, 2, 3, 4, 5, 6, 7, 8, 9]\u001b[0m\n"
     ]
    }
   ],
   "source": [
    "LOGGER.info(f\"train images: {len(train_images_raw)}\")\n",
    "LOGGER.info(f\"train labels: {len(train_labels)}\")\n",
    "LOGGER.info(f\"test images: {len(test_images_raw)}\")\n",
    "LOGGER.info(f\"test labels: {len(test_labels)}\")\n",
    "\n",
    "TOTAL_SIZE = train_images_raw[0].size\n",
    "DIMENSIONS = (len(train_images_raw[0]), len(train_images_raw[0]))\n",
    "\n",
    "LOGGER.info(f\"dimensions of image: {TOTAL_SIZE} {DIMENSIONS}\")\n",
    "\n",
    "LABELS = list(set(train_labels))\n",
    "LOGGER.info(f\"labels: {LABELS}\")"
   ]
  },
  {
   "cell_type": "code",
   "execution_count": 7,
   "metadata": {},
   "outputs": [
    {
     "name": "stdout",
     "output_type": "stream",
     "text": [
      "\u001b[2m2024-02-11 00:46:55\u001b[0m [\u001b[32m\u001b[1minfo     \u001b[0m] \u001b[1mnormalised images             \u001b[0m\n"
     ]
    }
   ],
   "source": [
    "MAX = max([max(t.flatten()) for t in train_images_raw])\n",
    "\n",
    "train_images = train_images_raw / MAX\n",
    "test_images = test_images_raw / MAX\n",
    "\n",
    "LOGGER.info(\"normalised images\")"
   ]
  },
  {
   "cell_type": "code",
   "execution_count": null,
   "metadata": {},
   "outputs": [],
   "source": [
    "@dataclass\n",
    "class Sample:\n",
    "    image: np.array\n",
    "    label: int\n",
    "\n",
    "\n",
    "train = [Sample(image=train_images[i], label=train_labels[i]) for i in range(len(train_images))]"
   ]
  },
  {
   "cell_type": "code",
   "execution_count": 17,
   "metadata": {},
   "outputs": [
    {
     "data": {
      "image/png": "[encoded data removed]",
      "text/plain": [
       "<Figure size 640x480 with 1 Axes>"
      ]
     },
     "metadata": {},
     "output_type": "display_data"
    }
   ],
   "source": [
    "idx = 0\n",
    "plt.imshow(train_images[idx])\n",
    "plt.title(f\"Train Image {idx}, Label: {train_labels[idx]}\")\n",
    "plt.show()"
   ]
  },
  {
   "cell_type": "code",
   "execution_count": 18,
   "metadata": {},
   "outputs": [
    {
     "data": {
      "image/png": "[encoded data removed]",
      "text/plain": [
       "<Figure size 640x480 with 1 Axes>"
      ]
     },
     "metadata": {},
     "output_type": "display_data"
    }
   ],
   "source": [
    "idx = 0\n",
    "plt.imshow(test_images[idx])\n",
    "plt.title(f\"Test Image {idx}, Label: {test_labels[idx]}\")\n",
    "plt.show()"
   ]
  },
  {
   "cell_type": "markdown",
   "metadata": {},
   "source": [
    "## Modelling\n",
    "\n",
    "Given a layer of inputs $\\vec{a_{i}}$, a matrix of weights $\\vec{W_i}$, biases $\\vec{b_i}$ and an activation function $\\sigma$, the inputs fed forward to $\\vec{a_{i+1}}$ are as follows:\n",
    "$$\\sigma \\left( \\vec{W_i}\\vec{a_{i}} + \\vec{b_i} \\right)=\\vec{a_{i+1}}$$\n",
    "\n",
    "Cost function, for all weights $\\vec{w}$, and for actual outputs $a^{(L)}$ and real outputs $y_i$ (for one such $k$ such that $y_k=1$, and $y_j=0  \\forall j \\neq k$):\n",
    "$$C(\\vec{w})=\\Sigma_{i} (a^{(L)}_i - y_i)^2$$"
   ]
  },
  {
   "cell_type": "markdown",
   "metadata": {},
   "source": [
    "Need to compute gradient descent step on a batch of the training data at a time (e.g. 10)\n",
    "\n",
    "$$\n",
    "\\frac{\\delta C_0}{\\delta w^{(L)}}=\\frac{\\delta z^{(L)}}{\\delta w^{(L)}}\\frac{\\delta a^{(L)}}{\\delta z^{(L)}}\\frac{\\delta C_0}{\\delta a^{(L)}}=2(a^{(L)}-y)\\sigma' (z^{(L)})a^{(L-1)}\n",
    "$$"
   ]
  },
  {
   "cell_type": "code",
   "execution_count": 10,
   "metadata": {},
   "outputs": [],
   "source": [
    "def sigmoid(x: np.array) -> np.array:\n",
    "    return 1 / (1 + np.exp(-x))\n",
    "\n",
    "\n",
    "def sigmoid_deriv(x: np.array) -> np.array:\n",
    "    return sigmoid(x) * (1 - sigmoid(x))\n",
    "\n",
    "\n",
    "def output_error(a: np.array, y: np.array, z: np.array):\n",
    "    return 2 * sigmoid_deriv(z) * (a - y)\n",
    "\n",
    "\n",
    "def label_one_hot_encoded(label: int) -> np.array:\n",
    "    y = np.zeros(len(LABELS))\n",
    "    y[label] = 1\n",
    "    return y"
   ]
  },
  {
   "cell_type": "code",
   "execution_count": 98,
   "metadata": {},
   "outputs": [],
   "source": [
    "class Network:\n",
    "    def __init__(self) -> None:\n",
    "        self._l1_len = TOTAL_SIZE  # 784, input layer\n",
    "        self._l2_len = 16  # hidden layer\n",
    "        self._l3_len = 16  # hidden layer\n",
    "        self._l4_len = len(LABELS)  # 10, final layer\n",
    "\n",
    "        self._w1 = np.random.rand(self._l2_len, self._l1_len)\n",
    "\n",
    "        bias_scale_factor = -36\n",
    "        self._b1 = np.random.rand(self._l2_len) * bias_scale_factor\n",
    "\n",
    "        self._w2 = np.random.rand(self._l3_len, self._l2_len)\n",
    "        self._b2 = np.random.rand(self._l3_len)\n",
    "\n",
    "        self._w3 = np.random.rand(self._l4_len, self._l3_len)\n",
    "        self._b3 = np.random.rand(self._l4_len)\n",
    "\n",
    "    def predict(self, x: np.array) -> float:\n",
    "        _, _, _, _, _, a3 = self._forward_propagation(x)\n",
    "        return np.argmax(a3)\n",
    "\n",
    "    def _forward_propagation(self, x: np.array):\n",
    "        z1 = np.matmul(self._w1, x) + self._b1\n",
    "        a1 = sigmoid(z1)\n",
    "        z2 = np.matmul(self._w2, a1) + self._b2\n",
    "        a2 = sigmoid(z2)\n",
    "        z3 = np.matmul(self._w3, a2) + self._b3\n",
    "        a3 = sigmoid(z3)\n",
    "        return z1, a1, z2, a2, z3, a3\n",
    "\n",
    "    def train(self, samples: list[Sample]) -> list[float]:\n",
    "        accuracies = []\n",
    "        epochs = 250\n",
    "        for epoch in range(epochs):\n",
    "            accuracy = self._train_epoch(samples)\n",
    "            accuracies += [accuracy]\n",
    "\n",
    "            if epoch % 20 == 0:\n",
    "                LOGGER.debug(f\"finished epoch {epoch} with accuracy of {accuracy}\")\n",
    "\n",
    "        return accuracies\n",
    "\n",
    "    def _train_epoch(self, samples: list[Sample]) -> float:\n",
    "        batch_size = 100\n",
    "        random.shuffle(samples)\n",
    "\n",
    "        test_size = 0.1\n",
    "        limit = int(len(samples) * test_size)\n",
    "        test_samples = samples[:limit]\n",
    "        train_samples = samples[limit:]\n",
    "\n",
    "        batches = [\n",
    "            train_samples[x : x + batch_size] for x in range(0, len(train_samples), batch_size)\n",
    "        ]\n",
    "\n",
    "        for _, batch in enumerate(batches):\n",
    "            self._update_with_batch(batch)\n",
    "\n",
    "        predictions = []\n",
    "        labels = []\n",
    "        for sample in test_samples:\n",
    "            predicted = self.predict(sample.image.flatten())\n",
    "            labels += [sample.label]\n",
    "            predictions += [predicted]\n",
    "\n",
    "        accuracy = accuracy_score(labels, predictions)\n",
    "        return accuracy\n",
    "\n",
    "    def _update_with_batch(self, batch: list[Sample]) -> None:\n",
    "        learning_rate = 0.28\n",
    "\n",
    "        nabla_b3s = []\n",
    "        nabla_w3s = []\n",
    "        nabla_b2s = []\n",
    "        nabla_w2s = []\n",
    "        nabla_b1s = []\n",
    "        nabla_w1s = []\n",
    "\n",
    "        for sample in batch:\n",
    "            x = sample.image.flatten()\n",
    "\n",
    "            z1, a1, z2, a2, z3, a3 = self._forward_propagation(x)\n",
    "\n",
    "            delta3 = output_error(a3, label_one_hot_encoded(sample.label), z3)\n",
    "            nabla_b3 = delta3\n",
    "            nabla_w3 = np.outer(delta3, a2)\n",
    "\n",
    "            delta2 = np.matmul(self._w3.T, delta3) * sigmoid_deriv(z2)\n",
    "            nabla_b2 = delta2\n",
    "            nabla_w2 = np.outer(delta2, a1)\n",
    "\n",
    "            delta1 = np.matmul(self._w2.T, delta2) * sigmoid_deriv(z1)\n",
    "            nabla_b1 = delta1\n",
    "            nabla_w1 = np.outer(delta1, x)\n",
    "\n",
    "            nabla_b3s += [nabla_b3]\n",
    "            nabla_w3s += [nabla_w3]\n",
    "            nabla_b2s += [nabla_b2]\n",
    "            nabla_w2s += [nabla_w2]\n",
    "            nabla_b1s += [nabla_b1]\n",
    "            nabla_w1s += [nabla_w1]\n",
    "\n",
    "        nabla_b1_batch = sum(nabla_b1s) / len(batch)\n",
    "        nabla_w1_batch = sum(nabla_w1s) / len(batch)\n",
    "        nabla_b2_batch = sum(nabla_b2s) / len(batch)\n",
    "        nabla_w2_batch = sum(nabla_w2s) / len(batch)\n",
    "        nabla_b3_batch = sum(nabla_b3s) / len(batch)\n",
    "        nabla_w3_batch = sum(nabla_w3s) / len(batch)\n",
    "\n",
    "        self._b1 -= learning_rate * nabla_b1_batch\n",
    "        self._w1 -= learning_rate * nabla_w1_batch\n",
    "        self._b2 -= learning_rate * nabla_b2_batch\n",
    "        self._w2 -= learning_rate * nabla_w2_batch\n",
    "        self._b3 -= learning_rate * nabla_b3_batch\n",
    "        self._w3 -= learning_rate * nabla_w3_batch"
   ]
  },
  {
   "cell_type": "code",
   "execution_count": 99,
   "metadata": {},
   "outputs": [
    {
     "name": "stdout",
     "output_type": "stream",
     "text": [
      "\u001b[2m2024-02-11 11:31:25\u001b[0m [\u001b[32m\u001b[1mdebug    \u001b[0m] \u001b[1mfinished epoch 0 with accuracy of 0.10716666666666666\u001b[0m\n",
      "\u001b[2m2024-02-11 11:32:21\u001b[0m [\u001b[32m\u001b[1mdebug    \u001b[0m] \u001b[1mfinished epoch 20 with accuracy of 0.10866666666666666\u001b[0m\n",
      "\u001b[2m2024-02-11 11:33:16\u001b[0m [\u001b[32m\u001b[1mdebug    \u001b[0m] \u001b[1mfinished epoch 40 with accuracy of 0.20133333333333334\u001b[0m\n",
      "\u001b[2m2024-02-11 11:34:12\u001b[0m [\u001b[32m\u001b[1mdebug    \u001b[0m] \u001b[1mfinished epoch 60 with accuracy of 0.21533333333333332\u001b[0m\n",
      "\u001b[2m2024-02-11 11:35:08\u001b[0m [\u001b[32m\u001b[1mdebug    \u001b[0m] \u001b[1mfinished epoch 80 with accuracy of 0.36533333333333334\u001b[0m\n",
      "\u001b[2m2024-02-11 11:36:02\u001b[0m [\u001b[32m\u001b[1mdebug    \u001b[0m] \u001b[1mfinished epoch 100 with accuracy of 0.4275\u001b[0m\n",
      "\u001b[2m2024-02-11 11:36:57\u001b[0m [\u001b[32m\u001b[1mdebug    \u001b[0m] \u001b[1mfinished epoch 120 with accuracy of 0.4851666666666667\u001b[0m\n",
      "\u001b[2m2024-02-11 11:37:53\u001b[0m [\u001b[32m\u001b[1mdebug    \u001b[0m] \u001b[1mfinished epoch 140 with accuracy of 0.49066666666666664\u001b[0m\n",
      "\u001b[2m2024-02-11 11:38:49\u001b[0m [\u001b[32m\u001b[1mdebug    \u001b[0m] \u001b[1mfinished epoch 160 with accuracy of 0.5136666666666667\u001b[0m\n",
      "\u001b[2m2024-02-11 11:39:44\u001b[0m [\u001b[32m\u001b[1mdebug    \u001b[0m] \u001b[1mfinished epoch 180 with accuracy of 0.6205\u001b[0m\n",
      "\u001b[2m2024-02-11 11:40:37\u001b[0m [\u001b[32m\u001b[1mdebug    \u001b[0m] \u001b[1mfinished epoch 200 with accuracy of 0.6658333333333334\u001b[0m\n",
      "\u001b[2m2024-02-11 11:41:30\u001b[0m [\u001b[32m\u001b[1mdebug    \u001b[0m] \u001b[1mfinished epoch 220 with accuracy of 0.7065\u001b[0m\n",
      "\u001b[2m2024-02-11 11:42:25\u001b[0m [\u001b[32m\u001b[1mdebug    \u001b[0m] \u001b[1mfinished epoch 240 with accuracy of 0.7145\u001b[0m\n"
     ]
    }
   ],
   "source": [
    "network = Network()\n",
    "accuracies = network.train(train)"
   ]
  },
  {
   "cell_type": "code",
   "execution_count": 100,
   "metadata": {},
   "outputs": [
    {
     "data": {
      "image/png": "[encoded data removed]",
      "text/plain": [
       "<Figure size 640x480 with 1 Axes>"
      ]
     },
     "metadata": {},
     "output_type": "display_data"
    }
   ],
   "source": [
    "plt.plot(accuracies)\n",
    "plt.xlabel(\"Epoch\")\n",
    "plt.ylabel(\"In-Sample Accuracy\")\n",
    "plt.show()"
   ]
  },
  {
   "cell_type": "code",
   "execution_count": 101,
   "metadata": {},
   "outputs": [
    {
     "name": "stdout",
     "output_type": "stream",
     "text": [
      "\u001b[2m2024-02-11 11:43:07\u001b[0m [\u001b[32m\u001b[1minfo     \u001b[0m] \u001b[1maccuracy on test set: 0.7203  \u001b[0m\n"
     ]
    }
   ],
   "source": [
    "predictions = []\n",
    "\n",
    "for x in test_images:\n",
    "    result = network.predict(x.flatten())\n",
    "    predictions += [result]\n",
    "\n",
    "LOGGER.info(f\"accuracy on test set: {accuracy_score(test_labels, predictions)}\")"
   ]
  },
  {
   "cell_type": "code",
   "execution_count": 119,
   "metadata": {},
   "outputs": [
    {
     "data": {
      "image/png": "[encoded data removed]",
      "text/plain": [
       "<Figure size 640x480 with 1 Axes>"
      ]
     },
     "metadata": {},
     "output_type": "display_data"
    }
   ],
   "source": [
    "idx = 282\n",
    "plt.imshow(test_images[idx])\n",
    "plt.title(f\"Test Image {idx}, Predicted: {predictions[idx]}, Actual: {test_labels[idx]}\")\n",
    "plt.show()"
   ]
  }
 ],
 "metadata": {
  "kernelspec": {
   "display_name": "neural-network-scratch",
   "language": "python",
   "name": "python3"
  },
  "language_info": {
   "codemirror_mode": {
    "name": "ipython",
    "version": 3
   },
   "file_extension": ".py",
   "mimetype": "text/x-python",
   "name": "python",
   "nbconvert_exporter": "python",
   "pygments_lexer": "ipython3",
   "version": "3.11.7"
  }
 },
 "nbformat": 4,
 "nbformat_minor": 2
}
