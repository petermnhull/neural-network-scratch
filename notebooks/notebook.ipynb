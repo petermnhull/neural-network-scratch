{
 "cells": [
  {
   "cell_type": "code",
   "execution_count": 28,
   "metadata": {},
   "outputs": [],
   "source": [
    "import gzip\n",
    "import numpy as np\n",
    "import structlog\n",
    "from matplotlib import pyplot as plt\n",
    "from dataclasses import dataclass\n",
    "import random\n",
    "\n",
    "LOGGER = structlog.get_logger()"
   ]
  },
  {
   "cell_type": "markdown",
   "metadata": {},
   "source": [
    "## Data Loading"
   ]
  },
  {
   "cell_type": "code",
   "execution_count": 2,
   "metadata": {},
   "outputs": [],
   "source": [
    "IMAGES_TRAIN_PATH = \"../data/train-images-idx3-ubyte.gz\"\n",
    "LABELS_TRAIN_PATH = \"../data/train-labels-idx1-ubyte.gz\"\n",
    "IMAGES_TEST_PATH = \"../data/t10k-images-idx3-ubyte.gz\"\n",
    "LABELS_TEST_PATH = \"../data/t10k-labels-idx1-ubyte.gz\""
   ]
  },
  {
   "cell_type": "code",
   "execution_count": 3,
   "metadata": {},
   "outputs": [],
   "source": [
    "from array import array\n",
    "from struct import unpack\n",
    "\n",
    "\n",
    "def parse_gzip(f):\n",
    "    data_types = {\n",
    "        0x08: \"B\",\n",
    "        0x09: \"b\",\n",
    "        0x0B: \"h\",\n",
    "        0x0C: \"i\",\n",
    "        0x0D: \"f\",\n",
    "        0x0E: \"d\",\n",
    "    }\n",
    "\n",
    "    header = f.read(4)\n",
    "    _, data_type_label, num_dimensions = unpack(\">HBB\", header)\n",
    "    data_type_label = data_types[data_type_label]\n",
    "    dimension_sizes = unpack(\">\" + \"I\" * num_dimensions, f.read(4 * num_dimensions))\n",
    "    data = array(data_type_label, f.read())\n",
    "    data.byteswap()\n",
    "\n",
    "    return np.array(data).reshape(dimension_sizes)"
   ]
  },
  {
   "cell_type": "code",
   "execution_count": 4,
   "metadata": {},
   "outputs": [],
   "source": [
    "def read_from_path(path: str) -> np.array:\n",
    "    with gzip.open(path, \"rb\") as f:\n",
    "        return parse_gzip(f)"
   ]
  },
  {
   "cell_type": "code",
   "execution_count": 5,
   "metadata": {},
   "outputs": [],
   "source": [
    "train_images_raw = read_from_path(IMAGES_TRAIN_PATH)\n",
    "train_labels = read_from_path(LABELS_TRAIN_PATH)\n",
    "test_images_raw = read_from_path(IMAGES_TEST_PATH)\n",
    "test_labels = read_from_path(LABELS_TEST_PATH)"
   ]
  },
  {
   "cell_type": "code",
   "execution_count": 6,
   "metadata": {},
   "outputs": [
    {
     "name": "stdout",
     "output_type": "stream",
     "text": [
      "\u001b[2m2024-02-10 23:24:01\u001b[0m [\u001b[32m\u001b[1minfo     \u001b[0m] \u001b[1mtrain images: 60000           \u001b[0m\n",
      "\u001b[2m2024-02-10 23:24:01\u001b[0m [\u001b[32m\u001b[1minfo     \u001b[0m] \u001b[1mtrain labels: 60000           \u001b[0m\n",
      "\u001b[2m2024-02-10 23:24:01\u001b[0m [\u001b[32m\u001b[1minfo     \u001b[0m] \u001b[1mtest images: 10000            \u001b[0m\n",
      "\u001b[2m2024-02-10 23:24:01\u001b[0m [\u001b[32m\u001b[1minfo     \u001b[0m] \u001b[1mtest labels: 10000            \u001b[0m\n",
      "\u001b[2m2024-02-10 23:24:01\u001b[0m [\u001b[32m\u001b[1minfo     \u001b[0m] \u001b[1mdimensions of image: 784 (28, 28)\u001b[0m\n",
      "\u001b[2m2024-02-10 23:24:01\u001b[0m [\u001b[32m\u001b[1minfo     \u001b[0m] \u001b[1mlabels: [0, 1, 2, 3, 4, 5, 6, 7, 8, 9]\u001b[0m\n"
     ]
    }
   ],
   "source": [
    "LOGGER.info(f\"train images: {len(train_images_raw)}\")\n",
    "LOGGER.info(f\"train labels: {len(train_labels)}\")\n",
    "LOGGER.info(f\"test images: {len(test_images_raw)}\")\n",
    "LOGGER.info(f\"test labels: {len(test_labels)}\")\n",
    "\n",
    "TOTAL_SIZE = train_images_raw[0].size\n",
    "DIMENSIONS = (len(train_images_raw[0]), len(train_images_raw[0]))\n",
    "\n",
    "LOGGER.info(f\"dimensions of image: {TOTAL_SIZE} {DIMENSIONS}\")\n",
    "\n",
    "LABELS = list(set(train_labels))\n",
    "LOGGER.info(f\"labels: {LABELS}\")"
   ]
  },
  {
   "cell_type": "code",
   "execution_count": 7,
   "metadata": {},
   "outputs": [
    {
     "name": "stdout",
     "output_type": "stream",
     "text": [
      "\u001b[2m2024-02-10 23:24:04\u001b[0m [\u001b[32m\u001b[1minfo     \u001b[0m] \u001b[1mnormalised images             \u001b[0m\n"
     ]
    }
   ],
   "source": [
    "MAX = max([max(t.flatten()) for t in train_images_raw])\n",
    "\n",
    "train_images = train_images_raw / MAX\n",
    "test_images = test_images_raw / MAX\n",
    "\n",
    "LOGGER.info(\"normalised images\")"
   ]
  },
  {
   "cell_type": "code",
   "execution_count": 8,
   "metadata": {},
   "outputs": [
    {
     "data": {
      "image/png": "[encoded data removed]",
      "text/plain": [
       "<Figure size 640x480 with 1 Axes>"
      ]
     },
     "metadata": {},
     "output_type": "display_data"
    }
   ],
   "source": [
    "idx = 0\n",
    "plt.imshow(train_images_raw[idx])\n",
    "plt.title(f\"Train Image {idx}, Label: {train_labels[idx]}\")\n",
    "plt.show()"
   ]
  },
  {
   "cell_type": "code",
   "execution_count": 9,
   "metadata": {},
   "outputs": [
    {
     "data": {
      "image/png": "[encoded data removed]",
      "text/plain": [
       "<Figure size 640x480 with 1 Axes>"
      ]
     },
     "metadata": {},
     "output_type": "display_data"
    }
   ],
   "source": [
    "idx = 0\n",
    "plt.imshow(test_images_raw[idx])\n",
    "plt.title(f\"Test Image {idx}, Label: {test_labels[idx]}\")\n",
    "plt.show()"
   ]
  },
  {
   "cell_type": "markdown",
   "metadata": {},
   "source": [
    "## Modelling\n",
    "\n",
    "Given a layer of inputs $\\vec{a_{i}}$, a matrix of weights $\\vec{W_i}$, biases $\\vec{b_i}$ and an activation function $\\sigma$, the inputs fed forward to $\\vec{a_{i+1}}$ are as follows:\n",
    "$$\\sigma \\left( \\vec{W_i}\\vec{a_{i}} + \\vec{b_i} \\right)=\\vec{a_{i+1}}$$\n",
    "\n",
    "Cost function, for all weights $\\vec{w}$, and for actual outputs $a^{(L)}$ and real outputs $y_i$ (for one such $k$ such that $y_k=1$, and $y_j=0  \\forall j \\neq k$):\n",
    "$$C(\\vec{w})=\\Sigma_{i} (a^{(L)}_i - y_i)^2$$"
   ]
  },
  {
   "cell_type": "markdown",
   "metadata": {},
   "source": [
    "Need to compute gradient descent step on a batch of the training data at a time (e.g. 10)\n",
    "\n",
    "$$\n",
    "\\frac{\\delta C_0}{\\delta w^{(L)}}=\\frac{\\delta z^{(L)}}{\\delta w^{(L)}}\\frac{\\delta a^{(L)}}{\\delta z^{(L)}}\\frac{\\delta C_0}{\\delta a^{(L)}}=2(a^{(L)}-y)\\sigma' (z^{(L)})a^{(L-1)}\n",
    "$$"
   ]
  },
  {
   "cell_type": "code",
   "execution_count": 10,
   "metadata": {},
   "outputs": [],
   "source": [
    "def sigmoid(x: np.array) -> np.array:\n",
    "    return 1 / (1 + np.exp(-x))\n",
    "\n",
    "def sigmoid_deriv(x: np.array) -> np.array:\n",
    "    return sigmoid(x) * (1 - sigmoid(x))"
   ]
  },
  {
   "cell_type": "code",
   "execution_count": 11,
   "metadata": {},
   "outputs": [],
   "source": [
    "def label_one_hot_encoded(label: int) -> np.array:\n",
    "    y = np.zeros(len(LABELS))\n",
    "    y[label] = 1\n",
    "    return y\n",
    "\n",
    "def cost_function(predicted: np.array, actual: int) -> float:\n",
    "    y = np.zeros(len(predicted))\n",
    "    y[actual] = 1\n",
    "    return sum((predicted - y)**2)"
   ]
  },
  {
   "cell_type": "code",
   "execution_count": 12,
   "metadata": {},
   "outputs": [],
   "source": [
    "@dataclass\n",
    "class Sample():\n",
    "    image: np.array\n",
    "    label: int\n",
    "\n",
    "\n",
    "train = [Sample(image=train_images[i], label=train_labels[i]) for i in range(len(train_images))]"
   ]
  },
  {
   "cell_type": "code",
   "execution_count": 142,
   "metadata": {},
   "outputs": [],
   "source": [
    "class Network:\n",
    "    def __init__(self) -> None:\n",
    "        self._l1_len = TOTAL_SIZE  # 784, input layer\n",
    "        self._l2_len = 16  # hidden layer\n",
    "        self._l3_len = len(LABELS)  # 10, final layer\n",
    "\n",
    "        self._w1 = np.random.rand(self._l2_len, self._l1_len)\n",
    "\n",
    "        bias_scale_factor = -36\n",
    "        self._b1 = np.random.rand(self._l2_len) * bias_scale_factor\n",
    "\n",
    "        self._w2 = np.random.rand(self._l3_len, self._l2_len)\n",
    "        self._b2 = np.random.rand(self._l3_len)\n",
    "    \n",
    "    def predict(self, x: np.array) -> float:\n",
    "        _, _, _, a2 = self.forward_propagation(x)\n",
    "        return np.argmax(a2)\n",
    "    \n",
    "    def forward_propagation(self, x: np.array):\n",
    "        # x is the flattened 28x28 matrix into an array of size 784\n",
    "        z1 = np.matmul(self._w1, x) + self._b1\n",
    "        a1 = sigmoid(z1)\n",
    "        z2 = np.matmul(self._w2, a1) + self._b2\n",
    "        a2 = sigmoid(z2)\n",
    "        return z1, a1, z2, a2\n",
    "    \n",
    "    def train(self, samples: list[Sample]) -> None:\n",
    "        batch_size = 100\n",
    "        learning_rate = 0.5\n",
    "\n",
    "        epochs = 25\n",
    "        for epoch in range(epochs):\n",
    "            LOGGER.debug(f\"starting epoch {epoch}\")\n",
    "            random.shuffle(samples)\n",
    "            batches = [samples[x:x+batch_size] for x in range(0, len(train), batch_size)]\n",
    "\n",
    "            for _, batch in enumerate(batches):\n",
    "\n",
    "                nabla_b2s = []\n",
    "                nabla_w2s = []\n",
    "                nabla_b1s = []\n",
    "                nabla_w1s = []\n",
    "\n",
    "                for sample in batch:\n",
    "                    x = sample.image.flatten()\n",
    "\n",
    "                    z1, a1, z2, a2 = self.forward_propagation(x)\n",
    "                    delta2 = output_error(a2, label_one_hot_encoded(sample.label), z2)\n",
    "\n",
    "                    nabla_b2 = delta2\n",
    "                    nabla_w2 = np.outer(delta2, a1)\n",
    "\n",
    "                    delta1 = np.matmul(self._w2.T, delta2) * sigmoid_deriv(z1)\n",
    "\n",
    "                    nabla_b1 = delta1\n",
    "                    nabla_w1 = np.outer(delta1, x)\n",
    "\n",
    "                    nabla_b2s += [nabla_b2]\n",
    "                    nabla_w2s += [nabla_w2]\n",
    "                    nabla_b1s += [nabla_b1]\n",
    "                    nabla_w1s += [nabla_w1]\n",
    "                \n",
    "                nabla_b1_batch = 1/len(batch) * sum(nabla_b1s)\n",
    "                nabla_w1_batch = 1/len(batch) * sum(nabla_w1s)\n",
    "                nabla_b2_batch = 1/len(batch) * sum(nabla_b2s)\n",
    "                nabla_w2_batch = 1/len(batch) * sum(nabla_w2s)\n",
    "\n",
    "                self._b1 = self._b1 - (learning_rate * nabla_b1_batch)\n",
    "                self._w1 = self._w1 - (learning_rate * nabla_w1_batch)\n",
    "                self._b2 = self._b2 - (learning_rate * nabla_b2_batch)\n",
    "                self._w2 = self._w2 - (learning_rate * nabla_w2_batch)\n",
    "\n",
    "def output_error(a: np.array, y: np.array, z: np.array):\n",
    "    return 2 * sigmoid_deriv(z) * (a - y)"
   ]
  },
  {
   "cell_type": "code",
   "execution_count": 143,
   "metadata": {},
   "outputs": [
    {
     "name": "stdout",
     "output_type": "stream",
     "text": [
      "\u001b[2m2024-02-11 00:42:49\u001b[0m [\u001b[32m\u001b[1mdebug    \u001b[0m] \u001b[1mstarting epoch 0              \u001b[0m\n"
     ]
    },
    {
     "name": "stdout",
     "output_type": "stream",
     "text": [
      "\u001b[2m2024-02-11 00:42:52\u001b[0m [\u001b[32m\u001b[1mdebug    \u001b[0m] \u001b[1mstarting epoch 1              \u001b[0m\n",
      "\u001b[2m2024-02-11 00:42:54\u001b[0m [\u001b[32m\u001b[1mdebug    \u001b[0m] \u001b[1mstarting epoch 2              \u001b[0m\n",
      "\u001b[2m2024-02-11 00:42:57\u001b[0m [\u001b[32m\u001b[1mdebug    \u001b[0m] \u001b[1mstarting epoch 3              \u001b[0m\n",
      "\u001b[2m2024-02-11 00:42:59\u001b[0m [\u001b[32m\u001b[1mdebug    \u001b[0m] \u001b[1mstarting epoch 4              \u001b[0m\n",
      "\u001b[2m2024-02-11 00:43:01\u001b[0m [\u001b[32m\u001b[1mdebug    \u001b[0m] \u001b[1mstarting epoch 5              \u001b[0m\n",
      "\u001b[2m2024-02-11 00:43:04\u001b[0m [\u001b[32m\u001b[1mdebug    \u001b[0m] \u001b[1mstarting epoch 6              \u001b[0m\n",
      "\u001b[2m2024-02-11 00:43:06\u001b[0m [\u001b[32m\u001b[1mdebug    \u001b[0m] \u001b[1mstarting epoch 7              \u001b[0m\n",
      "\u001b[2m2024-02-11 00:43:08\u001b[0m [\u001b[32m\u001b[1mdebug    \u001b[0m] \u001b[1mstarting epoch 8              \u001b[0m\n",
      "\u001b[2m2024-02-11 00:43:11\u001b[0m [\u001b[32m\u001b[1mdebug    \u001b[0m] \u001b[1mstarting epoch 9              \u001b[0m\n",
      "\u001b[2m2024-02-11 00:43:13\u001b[0m [\u001b[32m\u001b[1mdebug    \u001b[0m] \u001b[1mstarting epoch 10             \u001b[0m\n",
      "\u001b[2m2024-02-11 00:43:16\u001b[0m [\u001b[32m\u001b[1mdebug    \u001b[0m] \u001b[1mstarting epoch 11             \u001b[0m\n",
      "\u001b[2m2024-02-11 00:43:18\u001b[0m [\u001b[32m\u001b[1mdebug    \u001b[0m] \u001b[1mstarting epoch 12             \u001b[0m\n",
      "\u001b[2m2024-02-11 00:43:20\u001b[0m [\u001b[32m\u001b[1mdebug    \u001b[0m] \u001b[1mstarting epoch 13             \u001b[0m\n",
      "\u001b[2m2024-02-11 00:43:23\u001b[0m [\u001b[32m\u001b[1mdebug    \u001b[0m] \u001b[1mstarting epoch 14             \u001b[0m\n",
      "\u001b[2m2024-02-11 00:43:25\u001b[0m [\u001b[32m\u001b[1mdebug    \u001b[0m] \u001b[1mstarting epoch 15             \u001b[0m\n",
      "\u001b[2m2024-02-11 00:43:28\u001b[0m [\u001b[32m\u001b[1mdebug    \u001b[0m] \u001b[1mstarting epoch 16             \u001b[0m\n",
      "\u001b[2m2024-02-11 00:43:30\u001b[0m [\u001b[32m\u001b[1mdebug    \u001b[0m] \u001b[1mstarting epoch 17             \u001b[0m\n",
      "\u001b[2m2024-02-11 00:43:32\u001b[0m [\u001b[32m\u001b[1mdebug    \u001b[0m] \u001b[1mstarting epoch 18             \u001b[0m\n",
      "\u001b[2m2024-02-11 00:43:35\u001b[0m [\u001b[32m\u001b[1mdebug    \u001b[0m] \u001b[1mstarting epoch 19             \u001b[0m\n",
      "\u001b[2m2024-02-11 00:43:37\u001b[0m [\u001b[32m\u001b[1mdebug    \u001b[0m] \u001b[1mstarting epoch 20             \u001b[0m\n",
      "\u001b[2m2024-02-11 00:43:40\u001b[0m [\u001b[32m\u001b[1mdebug    \u001b[0m] \u001b[1mstarting epoch 21             \u001b[0m\n",
      "\u001b[2m2024-02-11 00:43:42\u001b[0m [\u001b[32m\u001b[1mdebug    \u001b[0m] \u001b[1mstarting epoch 22             \u001b[0m\n",
      "\u001b[2m2024-02-11 00:43:44\u001b[0m [\u001b[32m\u001b[1mdebug    \u001b[0m] \u001b[1mstarting epoch 23             \u001b[0m\n",
      "\u001b[2m2024-02-11 00:43:47\u001b[0m [\u001b[32m\u001b[1mdebug    \u001b[0m] \u001b[1mstarting epoch 24             \u001b[0m\n"
     ]
    }
   ],
   "source": [
    "network = Network()\n",
    "network.train(train)"
   ]
  },
  {
   "cell_type": "code",
   "execution_count": 144,
   "metadata": {},
   "outputs": [
    {
     "data": {
      "text/plain": [
       "0.5582"
      ]
     },
     "execution_count": 144,
     "metadata": {},
     "output_type": "execute_result"
    }
   ],
   "source": [
    "from sklearn.metrics import accuracy_score\n",
    "predictions = []\n",
    "\n",
    "for x in test_images:\n",
    "    result = network.predict(x.flatten())\n",
    "    predictions += [result]\n",
    "\n",
    "accuracy_score(test_labels, predictions)"
   ]
  }
 ],
 "metadata": {
  "kernelspec": {
   "display_name": "neural-network-scratch",
   "language": "python",
   "name": "python3"
  },
  "language_info": {
   "codemirror_mode": {
    "name": "ipython",
    "version": 3
   },
   "file_extension": ".py",
   "mimetype": "text/x-python",
   "name": "python",
   "nbconvert_exporter": "python",
   "pygments_lexer": "ipython3",
   "version": "3.11.7"
  }
 },
 "nbformat": 4,
 "nbformat_minor": 2
}
